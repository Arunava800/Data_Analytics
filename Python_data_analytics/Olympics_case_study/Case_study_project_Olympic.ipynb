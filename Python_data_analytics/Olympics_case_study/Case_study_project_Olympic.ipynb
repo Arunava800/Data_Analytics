{
 "cells": [
  {
   "cell_type": "markdown",
   "id": "5a0be959",
   "metadata": {},
   "source": [
    "## Olympic dataset"
   ]
  },
  {
   "cell_type": "code",
   "execution_count": 3,
   "id": "85ff7d77",
   "metadata": {},
   "outputs": [
    {
     "name": "stdout",
     "output_type": "stream",
     "text": [
      "(271116, 17)\n"
     ]
    }
   ],
   "source": [
    "# 1. PRINT THE SHAPE\n",
    "#     Import the libraries\n",
    "import numpy as np\n",
    "import pandas as pd\n",
    "from scipy.stats import norm\n",
    "import matplotlib.pyplot as plt\n",
    "#   Read the dataset\n",
    "df = pd.read_csv('olympics.csv')\n",
    "print(df.shape)"
   ]
  },
  {
   "cell_type": "markdown",
   "id": "ff1bf7ef",
   "metadata": {},
   "source": [
    "# Describe the age column"
   ]
  },
  {
   "cell_type": "code",
   "execution_count": 4,
   "id": "e9cd9f00",
   "metadata": {},
   "outputs": [
    {
     "name": "stdout",
     "output_type": "stream",
     "text": [
      "count    261642.000000\n",
      "mean         25.556898\n",
      "std           6.393561\n",
      "min          10.000000\n",
      "25%          21.000000\n",
      "50%          24.000000\n",
      "75%          28.000000\n",
      "max          97.000000\n",
      "Name: Age, dtype: float64\n"
     ]
    }
   ],
   "source": [
    "print(df['Age'].describe())"
   ]
  },
  {
   "cell_type": "markdown",
   "id": "6507d454",
   "metadata": {},
   "source": [
    "## Print numeric datatypes"
   ]
  },
  {
   "cell_type": "code",
   "execution_count": 5,
   "id": "39ec7fb5",
   "metadata": {},
   "outputs": [
    {
     "name": "stdout",
     "output_type": "stream",
     "text": [
      "['ID', 'Age', 'Height', 'Weight', 'Year']\n"
     ]
    }
   ],
   "source": [
    "print(df.select_dtypes(include = np.number).columns.tolist())"
   ]
  },
  {
   "cell_type": "markdown",
   "id": "7a7f25f1",
   "metadata": {},
   "source": [
    "## Null Values"
   ]
  },
  {
   "cell_type": "code",
   "execution_count": 6,
   "id": "9d12954e",
   "metadata": {},
   "outputs": [
    {
     "data": {
      "text/html": [
       "<div>\n",
       "<style scoped>\n",
       "    .dataframe tbody tr th:only-of-type {\n",
       "        vertical-align: middle;\n",
       "    }\n",
       "\n",
       "    .dataframe tbody tr th {\n",
       "        vertical-align: top;\n",
       "    }\n",
       "\n",
       "    .dataframe thead th {\n",
       "        text-align: right;\n",
       "    }\n",
       "</style>\n",
       "<table border=\"1\" class=\"dataframe\">\n",
       "  <thead>\n",
       "    <tr style=\"text-align: right;\">\n",
       "      <th></th>\n",
       "      <th>ID</th>\n",
       "      <th>Name</th>\n",
       "      <th>Sex</th>\n",
       "      <th>Age</th>\n",
       "      <th>Height</th>\n",
       "      <th>Weight</th>\n",
       "      <th>Team</th>\n",
       "      <th>NOC</th>\n",
       "      <th>Games</th>\n",
       "      <th>Year</th>\n",
       "      <th>Season</th>\n",
       "      <th>City</th>\n",
       "      <th>Sport</th>\n",
       "      <th>Event</th>\n",
       "      <th>Medal</th>\n",
       "      <th>region</th>\n",
       "      <th>notes</th>\n",
       "    </tr>\n",
       "  </thead>\n",
       "  <tbody>\n",
       "    <tr>\n",
       "      <th>0</th>\n",
       "      <td>1</td>\n",
       "      <td>A Dijiang</td>\n",
       "      <td>M</td>\n",
       "      <td>24.0</td>\n",
       "      <td>180.0</td>\n",
       "      <td>80.0</td>\n",
       "      <td>China</td>\n",
       "      <td>CHN</td>\n",
       "      <td>1992 Summer</td>\n",
       "      <td>1992</td>\n",
       "      <td>Summer</td>\n",
       "      <td>Barcelona</td>\n",
       "      <td>Basketball</td>\n",
       "      <td>Basketball Men's Basketball</td>\n",
       "      <td>NaN</td>\n",
       "      <td>China</td>\n",
       "      <td>NaN</td>\n",
       "    </tr>\n",
       "    <tr>\n",
       "      <th>1</th>\n",
       "      <td>2</td>\n",
       "      <td>A Lamusi</td>\n",
       "      <td>M</td>\n",
       "      <td>23.0</td>\n",
       "      <td>170.0</td>\n",
       "      <td>60.0</td>\n",
       "      <td>China</td>\n",
       "      <td>CHN</td>\n",
       "      <td>2012 Summer</td>\n",
       "      <td>2012</td>\n",
       "      <td>Summer</td>\n",
       "      <td>London</td>\n",
       "      <td>Judo</td>\n",
       "      <td>Judo Men's Extra-Lightweight</td>\n",
       "      <td>NaN</td>\n",
       "      <td>China</td>\n",
       "      <td>NaN</td>\n",
       "    </tr>\n",
       "    <tr>\n",
       "      <th>2</th>\n",
       "      <td>3</td>\n",
       "      <td>Gunnar Nielsen Aaby</td>\n",
       "      <td>M</td>\n",
       "      <td>24.0</td>\n",
       "      <td>NaN</td>\n",
       "      <td>NaN</td>\n",
       "      <td>Denmark</td>\n",
       "      <td>DEN</td>\n",
       "      <td>1920 Summer</td>\n",
       "      <td>1920</td>\n",
       "      <td>Summer</td>\n",
       "      <td>Antwerpen</td>\n",
       "      <td>Football</td>\n",
       "      <td>Football Men's Football</td>\n",
       "      <td>NaN</td>\n",
       "      <td>Denmark</td>\n",
       "      <td>NaN</td>\n",
       "    </tr>\n",
       "    <tr>\n",
       "      <th>3</th>\n",
       "      <td>4</td>\n",
       "      <td>Edgar Lindenau Aabye</td>\n",
       "      <td>M</td>\n",
       "      <td>34.0</td>\n",
       "      <td>NaN</td>\n",
       "      <td>NaN</td>\n",
       "      <td>Denmark/Sweden</td>\n",
       "      <td>DEN</td>\n",
       "      <td>1900 Summer</td>\n",
       "      <td>1900</td>\n",
       "      <td>Summer</td>\n",
       "      <td>Paris</td>\n",
       "      <td>Tug-Of-War</td>\n",
       "      <td>Tug-Of-War Men's Tug-Of-War</td>\n",
       "      <td>Gold</td>\n",
       "      <td>Denmark</td>\n",
       "      <td>NaN</td>\n",
       "    </tr>\n",
       "    <tr>\n",
       "      <th>4</th>\n",
       "      <td>5</td>\n",
       "      <td>Christine Jacoba Aaftink</td>\n",
       "      <td>F</td>\n",
       "      <td>21.0</td>\n",
       "      <td>185.0</td>\n",
       "      <td>82.0</td>\n",
       "      <td>Netherlands</td>\n",
       "      <td>NED</td>\n",
       "      <td>1988 Winter</td>\n",
       "      <td>1988</td>\n",
       "      <td>Winter</td>\n",
       "      <td>Calgary</td>\n",
       "      <td>Speed Skating</td>\n",
       "      <td>Speed Skating Women's 500 metres</td>\n",
       "      <td>NaN</td>\n",
       "      <td>Netherlands</td>\n",
       "      <td>NaN</td>\n",
       "    </tr>\n",
       "    <tr>\n",
       "      <th>...</th>\n",
       "      <td>...</td>\n",
       "      <td>...</td>\n",
       "      <td>...</td>\n",
       "      <td>...</td>\n",
       "      <td>...</td>\n",
       "      <td>...</td>\n",
       "      <td>...</td>\n",
       "      <td>...</td>\n",
       "      <td>...</td>\n",
       "      <td>...</td>\n",
       "      <td>...</td>\n",
       "      <td>...</td>\n",
       "      <td>...</td>\n",
       "      <td>...</td>\n",
       "      <td>...</td>\n",
       "      <td>...</td>\n",
       "      <td>...</td>\n",
       "    </tr>\n",
       "    <tr>\n",
       "      <th>271111</th>\n",
       "      <td>135569</td>\n",
       "      <td>Andrzej ya</td>\n",
       "      <td>M</td>\n",
       "      <td>29.0</td>\n",
       "      <td>179.0</td>\n",
       "      <td>89.0</td>\n",
       "      <td>Poland-1</td>\n",
       "      <td>POL</td>\n",
       "      <td>1976 Winter</td>\n",
       "      <td>1976</td>\n",
       "      <td>Winter</td>\n",
       "      <td>Innsbruck</td>\n",
       "      <td>Luge</td>\n",
       "      <td>Luge Mixed (Men)'s Doubles</td>\n",
       "      <td>NaN</td>\n",
       "      <td>Poland</td>\n",
       "      <td>NaN</td>\n",
       "    </tr>\n",
       "    <tr>\n",
       "      <th>271112</th>\n",
       "      <td>135570</td>\n",
       "      <td>Piotr ya</td>\n",
       "      <td>M</td>\n",
       "      <td>27.0</td>\n",
       "      <td>176.0</td>\n",
       "      <td>59.0</td>\n",
       "      <td>Poland</td>\n",
       "      <td>POL</td>\n",
       "      <td>2014 Winter</td>\n",
       "      <td>2014</td>\n",
       "      <td>Winter</td>\n",
       "      <td>Sochi</td>\n",
       "      <td>Ski Jumping</td>\n",
       "      <td>Ski Jumping Men's Large Hill, Individual</td>\n",
       "      <td>NaN</td>\n",
       "      <td>Poland</td>\n",
       "      <td>NaN</td>\n",
       "    </tr>\n",
       "    <tr>\n",
       "      <th>271113</th>\n",
       "      <td>135570</td>\n",
       "      <td>Piotr ya</td>\n",
       "      <td>M</td>\n",
       "      <td>27.0</td>\n",
       "      <td>176.0</td>\n",
       "      <td>59.0</td>\n",
       "      <td>Poland</td>\n",
       "      <td>POL</td>\n",
       "      <td>2014 Winter</td>\n",
       "      <td>2014</td>\n",
       "      <td>Winter</td>\n",
       "      <td>Sochi</td>\n",
       "      <td>Ski Jumping</td>\n",
       "      <td>Ski Jumping Men's Large Hill, Team</td>\n",
       "      <td>NaN</td>\n",
       "      <td>Poland</td>\n",
       "      <td>NaN</td>\n",
       "    </tr>\n",
       "    <tr>\n",
       "      <th>271114</th>\n",
       "      <td>135571</td>\n",
       "      <td>Tomasz Ireneusz ya</td>\n",
       "      <td>M</td>\n",
       "      <td>30.0</td>\n",
       "      <td>185.0</td>\n",
       "      <td>96.0</td>\n",
       "      <td>Poland</td>\n",
       "      <td>POL</td>\n",
       "      <td>1998 Winter</td>\n",
       "      <td>1998</td>\n",
       "      <td>Winter</td>\n",
       "      <td>Nagano</td>\n",
       "      <td>Bobsleigh</td>\n",
       "      <td>Bobsleigh Men's Four</td>\n",
       "      <td>NaN</td>\n",
       "      <td>Poland</td>\n",
       "      <td>NaN</td>\n",
       "    </tr>\n",
       "    <tr>\n",
       "      <th>271115</th>\n",
       "      <td>135571</td>\n",
       "      <td>Tomasz Ireneusz ya</td>\n",
       "      <td>M</td>\n",
       "      <td>34.0</td>\n",
       "      <td>185.0</td>\n",
       "      <td>96.0</td>\n",
       "      <td>Poland</td>\n",
       "      <td>POL</td>\n",
       "      <td>2002 Winter</td>\n",
       "      <td>2002</td>\n",
       "      <td>Winter</td>\n",
       "      <td>Salt Lake City</td>\n",
       "      <td>Bobsleigh</td>\n",
       "      <td>Bobsleigh Men's Four</td>\n",
       "      <td>NaN</td>\n",
       "      <td>Poland</td>\n",
       "      <td>NaN</td>\n",
       "    </tr>\n",
       "  </tbody>\n",
       "</table>\n",
       "<p>271116 rows × 17 columns</p>\n",
       "</div>"
      ],
      "text/plain": [
       "            ID                      Name Sex   Age  Height  Weight  \\\n",
       "0            1                 A Dijiang   M  24.0   180.0    80.0   \n",
       "1            2                  A Lamusi   M  23.0   170.0    60.0   \n",
       "2            3       Gunnar Nielsen Aaby   M  24.0     NaN     NaN   \n",
       "3            4      Edgar Lindenau Aabye   M  34.0     NaN     NaN   \n",
       "4            5  Christine Jacoba Aaftink   F  21.0   185.0    82.0   \n",
       "...        ...                       ...  ..   ...     ...     ...   \n",
       "271111  135569                Andrzej ya   M  29.0   179.0    89.0   \n",
       "271112  135570                  Piotr ya   M  27.0   176.0    59.0   \n",
       "271113  135570                  Piotr ya   M  27.0   176.0    59.0   \n",
       "271114  135571        Tomasz Ireneusz ya   M  30.0   185.0    96.0   \n",
       "271115  135571        Tomasz Ireneusz ya   M  34.0   185.0    96.0   \n",
       "\n",
       "                  Team  NOC        Games  Year  Season            City  \\\n",
       "0                China  CHN  1992 Summer  1992  Summer       Barcelona   \n",
       "1                China  CHN  2012 Summer  2012  Summer          London   \n",
       "2              Denmark  DEN  1920 Summer  1920  Summer       Antwerpen   \n",
       "3       Denmark/Sweden  DEN  1900 Summer  1900  Summer           Paris   \n",
       "4          Netherlands  NED  1988 Winter  1988  Winter         Calgary   \n",
       "...                ...  ...          ...   ...     ...             ...   \n",
       "271111        Poland-1  POL  1976 Winter  1976  Winter       Innsbruck   \n",
       "271112          Poland  POL  2014 Winter  2014  Winter           Sochi   \n",
       "271113          Poland  POL  2014 Winter  2014  Winter           Sochi   \n",
       "271114          Poland  POL  1998 Winter  1998  Winter          Nagano   \n",
       "271115          Poland  POL  2002 Winter  2002  Winter  Salt Lake City   \n",
       "\n",
       "                Sport                                     Event Medal  \\\n",
       "0          Basketball               Basketball Men's Basketball   NaN   \n",
       "1                Judo              Judo Men's Extra-Lightweight   NaN   \n",
       "2            Football                   Football Men's Football   NaN   \n",
       "3          Tug-Of-War               Tug-Of-War Men's Tug-Of-War  Gold   \n",
       "4       Speed Skating          Speed Skating Women's 500 metres   NaN   \n",
       "...               ...                                       ...   ...   \n",
       "271111           Luge                Luge Mixed (Men)'s Doubles   NaN   \n",
       "271112    Ski Jumping  Ski Jumping Men's Large Hill, Individual   NaN   \n",
       "271113    Ski Jumping        Ski Jumping Men's Large Hill, Team   NaN   \n",
       "271114      Bobsleigh                      Bobsleigh Men's Four   NaN   \n",
       "271115      Bobsleigh                      Bobsleigh Men's Four   NaN   \n",
       "\n",
       "             region notes  \n",
       "0             China   NaN  \n",
       "1             China   NaN  \n",
       "2           Denmark   NaN  \n",
       "3           Denmark   NaN  \n",
       "4       Netherlands   NaN  \n",
       "...             ...   ...  \n",
       "271111       Poland   NaN  \n",
       "271112       Poland   NaN  \n",
       "271113       Poland   NaN  \n",
       "271114       Poland   NaN  \n",
       "271115       Poland   NaN  \n",
       "\n",
       "[271116 rows x 17 columns]"
      ]
     },
     "execution_count": 6,
     "metadata": {},
     "output_type": "execute_result"
    }
   ],
   "source": [
    "df"
   ]
  },
  {
   "cell_type": "code",
   "execution_count": 7,
   "id": "9e1b5e35",
   "metadata": {},
   "outputs": [
    {
     "name": "stdout",
     "output_type": "stream",
     "text": [
      "Age - 9474\n",
      "Height - 60171\n",
      "Weight - 62875\n",
      "Medal - 231333\n",
      "region - 370\n",
      "notes - 266077\n"
     ]
    }
   ],
   "source": [
    "x = df.isnull().sum()\n",
    "for i in range(len(x)):\n",
    "    if x.values[i] != 0:\n",
    "        print(x.index[i],\"-\",x.values[i])"
   ]
  },
  {
   "cell_type": "markdown",
   "id": "c0857d9c",
   "metadata": {},
   "source": [
    "# Handling missing values"
   ]
  },
  {
   "cell_type": "code",
   "execution_count": 8,
   "id": "349aa4de",
   "metadata": {},
   "outputs": [
    {
     "name": "stdout",
     "output_type": "stream",
     "text": [
      "(270746, 14)\n"
     ]
    }
   ],
   "source": [
    "## Droping the height, weight and notes columns\n",
    "df = pd.read_csv('olympics.csv')\n",
    "df.drop(columns = ['Height','Weight','notes'],inplace=True)\n",
    "df.dropna(subset=['region'],inplace=True)\n",
    "print(df.shape)"
   ]
  },
  {
   "cell_type": "markdown",
   "id": "a918e472",
   "metadata": {},
   "source": [
    "## Replacing the missing values"
   ]
  },
  {
   "cell_type": "code",
   "execution_count": 9,
   "id": "60e5f01e",
   "metadata": {},
   "outputs": [
    {
     "data": {
      "text/plain": [
       "DNW       230972\n",
       "Gold       13371\n",
       "Bronze     13291\n",
       "Silver     13112\n",
       "Name: Medal, dtype: int64"
      ]
     },
     "execution_count": 9,
     "metadata": {},
     "output_type": "execute_result"
    }
   ],
   "source": [
    "df['Medal'].fillna('DNW',inplace=True)\n",
    "counts = df['Medal'].value_counts()\n",
    "counts"
   ]
  },
  {
   "cell_type": "markdown",
   "id": "470b78a1",
   "metadata": {},
   "source": [
    "# STATISTICAL ANALYSIS"
   ]
  },
  {
   "cell_type": "markdown",
   "id": "28b12d5b",
   "metadata": {},
   "source": [
    "## HANDLING MISSING VALUES WITH MEAN"
   ]
  },
  {
   "cell_type": "code",
   "execution_count": 10,
   "id": "fc5286d4",
   "metadata": {},
   "outputs": [
    {
     "name": "stdout",
     "output_type": "stream",
     "text": [
      "26.0\n"
     ]
    }
   ],
   "source": [
    "df['Age'] = df.groupby(['Sport'])['Age'].transform(lambda x: x.fillna(x.mean()))\n",
    "print(round(df['Age'].mean(),0))\n",
    "df.to_csv('Olympics_cleaned.csv',index=False)\n",
    "n_df = pd.read_csv('Olympics_cleaned.csv')\n"
   ]
  },
  {
   "cell_type": "markdown",
   "id": "348c48c7",
   "metadata": {},
   "source": [
    "## Probability age distribution"
   ]
  },
  {
   "cell_type": "code",
   "execution_count": 48,
   "id": "6e901683",
   "metadata": {},
   "outputs": [
    {
     "data": {
      "image/png": "[encoded data removed]",
      "text/plain": [
       "<Figure size 432x288 with 1 Axes>"
      ]
     },
     "metadata": {
      "needs_background": "light"
     },
     "output_type": "display_data"
    },
    {
     "name": "stdout",
     "output_type": "stream",
     "text": [
      "20 to 25\n"
     ]
    }
   ],
   "source": [
    "age= n_df['Age']\n",
    "swimming_age = olympics.loc[(olympics[\"Sport\"] == \"Swimming\") & (olympics[\"Year\"] >= 2000) & (olympics[\"Year\"] <= 2016)][\"Age\"]\n",
    "\n",
    "swimming_age = sorted(swimming_age)\n",
    "\n",
    "mean_swimming_age = np.mean(swimming_age)\n",
    "std_swimming_age = np.std(swimming_age)\n",
    "\n",
    "probability_pdf = norm.pdf(swimming_age, loc=mean_swimming_age, scale=std_swimming_age)\n",
    "\n",
    "plt.plot(swimming_age, probability_pdf)\n",
    "plt.show()\n",
    "\n",
    "print(\"20 to 25\")\n"
   ]
  },
  {
   "cell_type": "markdown",
   "id": "153b33e7",
   "metadata": {},
   "source": [
    "## Find skewness"
   ]
  },
  {
   "cell_type": "code",
   "execution_count": 12,
   "id": "d48760cc",
   "metadata": {},
   "outputs": [
    {
     "name": "stdout",
     "output_type": "stream",
     "text": [
      "Left Skewed\n"
     ]
    }
   ],
   "source": [
    "import scipy.stats as stats\n",
    "india_gold = n_df[(n_df['region'] == 'India') & (n_df['Medal'] == \"Gold\")]\n",
    "values = india_gold.groupby('Year')['Medal'].value_counts()\n",
    "if stats.skew(values, bias=False) >0:\n",
    "    print('Right Skewed')\n",
    "else:\n",
    "    print('Left Skewed')\n"
   ]
  },
  {
   "cell_type": "markdown",
   "id": "3737c4fb",
   "metadata": {},
   "source": [
    "## Standard Deviation of Gold Medals"
   ]
  },
  {
   "cell_type": "code",
   "execution_count": 13,
   "id": "34f60783",
   "metadata": {},
   "outputs": [
    {
     "name": "stdout",
     "output_type": "stream",
     "text": [
      "71.97453253292676\n",
      "18.14528124684469\n"
     ]
    }
   ],
   "source": [
    "import statistics\n",
    "\n",
    "import numpy as np # linear algebra\n",
    "import pandas as pd # data processing, CSV file I/O (e.g. pd.read_csv)\n",
    "import matplotlib.pyplot as plt\n",
    "\n",
    "olympics = pd.read_csv('olympics_cleaned.csv')\n",
    "\n",
    "\n",
    "\n",
    "london_medals_host = olympics.loc[(olympics[\"City\"] == \"London\") & (olympics[\"region\"] == \"UK\") & (olympics[\"Medal\"] == \"Gold\")]\n",
    "\n",
    "gold_count_host = london_medals_host.groupby(\"Year\")[\"Medal\"].value_counts()\n",
    "\n",
    "london_medals_non_host = olympics.loc[(olympics[\"City\"] != \"London\") & (olympics[\"region\"] == \"UK\") & (olympics[\"Medal\"] == \"Gold\")]\n",
    "\n",
    "gold_count_non_host = london_medals_non_host.groupby(\"Year\")[\"Medal\"].value_counts()\n",
    "\n",
    "host_stdev = statistics.stdev(gold_count_host)\n",
    "\n",
    "non_host_stdev = statistics.stdev(gold_count_non_host)\n",
    "\n",
    "print(host_stdev)\n",
    "print(non_host_stdev)"
   ]
  },
  {
   "cell_type": "markdown",
   "id": "72e64d89",
   "metadata": {},
   "source": [
    "## Standarize the data"
   ]
  },
  {
   "cell_type": "code",
   "execution_count": 47,
   "id": "29122d31",
   "metadata": {},
   "outputs": [
    {
     "name": "stdout",
     "output_type": "stream",
     "text": [
      "0\n",
      "1\n"
     ]
    }
   ],
   "source": [
    "shooting = n_df[n_df['Sport'] == 'Shooting']['Age']\n",
    "original_mean = statistics.mean(shooting)\n",
    "original_sd = statistics.stdev(shooting)\n",
    "standardized_age = []\n",
    "for i in shooting:\n",
    "    standardized_age.append((i-original_mean)/original_sd)\n",
    "\n",
    "standardized_mean = statistics.mean( standardized_age)\n",
    "standardized_sd = statistics.stdev( standardized_age)\n",
    "\n",
    "print(round(standardized_mean))\n",
    "print(round(standardized_sd))\n"
   ]
  },
  {
   "cell_type": "markdown",
   "id": "6d757679",
   "metadata": {},
   "source": [
    "## Correlation analysis"
   ]
  },
  {
   "cell_type": "code",
   "execution_count": 15,
   "id": "79f182d9",
   "metadata": {},
   "outputs": [
    {
     "name": "stdout",
     "output_type": "stream",
     "text": [
      "positve\n"
     ]
    }
   ],
   "source": [
    "labels, categories = pd.factorize(n_df['Medal'])\n",
    "n_df['Medal_labels'] = labels\n",
    "cott = n_df['Age'].corr(n_df['Medal_labels'])\n",
    "if cott > 0:\n",
    "    print(\"positve\")\n",
    "else:\n",
    "    print(\"negative\")"
   ]
  },
  {
   "cell_type": "markdown",
   "id": "d0f8fd42",
   "metadata": {},
   "source": [
    "## IQR age "
   ]
  },
  {
   "cell_type": "code",
   "execution_count": 16,
   "id": "d05e7b7a",
   "metadata": {},
   "outputs": [
    {
     "name": "stdout",
     "output_type": "stream",
     "text": [
      "6.0\n"
     ]
    }
   ],
   "source": [
    "age = n_df['Age']\n",
    "q1 = np.quantile(age,0.25)\n",
    "q2 = np.quantile(age,0.75)\n",
    "iqr = q2 - q1\n",
    "print(iqr)"
   ]
  },
  {
   "cell_type": "markdown",
   "id": "a6126ca7",
   "metadata": {},
   "source": [
    "# Summer Olympics Hosted"
   ]
  },
  {
   "cell_type": "code",
   "execution_count": 17,
   "id": "93f6cd58",
   "metadata": {},
   "outputs": [
    {
     "data": {
      "image/png": "[encoded data removed]",
      "text/plain": [
       "<Figure size 432x288 with 1 Axes>"
      ]
     },
     "metadata": {
      "needs_background": "light"
     },
     "output_type": "display_data"
    }
   ],
   "source": [
    "cities = n_df['City']\n",
    "u_city = len(cities.unique())\n",
    "h_city= cities.value_counts()\n",
    "index_city = h_city.index\n",
    "value_city = h_city.values\n",
    "plt.bar(index_city, value_city,edgecolor='black')\n",
    "plt.xticks(rotation = 90)\n",
    "plt.show()"
   ]
  },
  {
   "cell_type": "markdown",
   "id": "54c7ebb9",
   "metadata": {},
   "source": [
    "## SPORTS HAVING MOST NUMBER OF MEDALS"
   ]
  },
  {
   "cell_type": "code",
   "execution_count": 18,
   "id": "81c6a06d",
   "metadata": {},
   "outputs": [
    {
     "name": "stdout",
     "output_type": "stream",
     "text": [
      "Athletics\n"
     ]
    },
    {
     "data": {
      "image/png": "[encoded data removed]",
      "text/plain": [
       "<Figure size 432x288 with 1 Axes>"
      ]
     },
     "metadata": {
      "needs_background": "light"
     },
     "output_type": "display_data"
    }
   ],
   "source": [
    "n_medals = n_df[n_df['Medal']!='DNW']\n",
    "sports_group = n_medals.groupby(['Sport'])['Medal'].value_counts()\n",
    "n_sports = sports_group.groupby(['Sport']).sum()\n",
    "n_largest = n_sports.nlargest(5)\n",
    "print(n_largest.index[0])\n",
    "\n",
    "index_largest = n_largest.index\n",
    "value_largest = n_largest.values\n",
    "plt.bar(index_largest,value_largest,edgecolor = 'black')\n",
    "plt.show()\n"
   ]
  },
  {
   "cell_type": "markdown",
   "id": "f73c5c78",
   "metadata": {},
   "source": [
    "# India's first gold medals"
   ]
  },
  {
   "cell_type": "code",
   "execution_count": 19,
   "id": "daf910dc",
   "metadata": {},
   "outputs": [
    {
     "data": {
      "text/plain": [
       "1924"
      ]
     },
     "execution_count": 19,
     "metadata": {},
     "output_type": "execute_result"
    }
   ],
   "source": [
    "country = n_df[n_df['region']=='India']\n",
    "medals = country[country['Medal']=='Gold']\n",
    "medals = medals['Year']\n",
    "medals = medals.min()\n",
    "medals\n"
   ]
  },
  {
   "cell_type": "markdown",
   "id": "d78099dd",
   "metadata": {},
   "source": [
    "# Most number of players"
   ]
  },
  {
   "cell_type": "code",
   "execution_count": 54,
   "id": "387280ec",
   "metadata": {},
   "outputs": [
    {
     "name": "stdout",
     "output_type": "stream",
     "text": [
      "Football Men's Football\n"
     ]
    },
    {
     "data": {
      "image/png": "[encoded data removed]",
      "text/plain": [
       "<Figure size 432x288 with 1 Axes>"
      ]
     },
     "metadata": {
      "needs_background": "light"
     },
     "output_type": "display_data"
    }
   ],
   "source": [
    "events = n_df['Event'].value_counts()\n",
    "five_largest = events.nlargest(5)\n",
    "five_largest\n",
    "indexes = five_largest.index\n",
    "values = five_largest.values\n",
    "print(indexes[0])\n",
    "plt.bar(indexes,values,edgecolor='black')\n",
    "plt.xticks(rotation = 45)\n",
    "plt.show()"
   ]
  },
  {
   "cell_type": "markdown",
   "id": "ff3730e5",
   "metadata": {},
   "source": [
    "# Most Female Gold Medalist"
   ]
  },
  {
   "cell_type": "code",
   "execution_count": 21,
   "id": "92038b96",
   "metadata": {},
   "outputs": [
    {
     "data": {
      "image/png": "[encoded data removed]",
      "text/plain": [
       "<Figure size 432x288 with 1 Axes>"
      ]
     },
     "metadata": {
      "needs_background": "light"
     },
     "output_type": "display_data"
    },
    {
     "name": "stdout",
     "output_type": "stream",
     "text": [
      "Swimming\n"
     ]
    }
   ],
   "source": [
    "cat, t_sex = pd.factorize(n_df['Sex'])\n",
    "n_df['sex_labels'] = cat\n",
    "f_player = n_df[(n_df['sex_labels']==1) & (n_df['Medal']=='Gold')]\n",
    "group_player =f_player['Sport'].value_counts()\n",
    "\n",
    "five_largest = group_player.nlargest(5)\n",
    "plt.bar(five_largest.index, five_largest.values,edgecolor = 'black')\n",
    "plt.show()\n",
    "print(five_largest.index[0])"
   ]
  },
  {
   "cell_type": "code",
   "execution_count": 22,
   "id": "af372bce",
   "metadata": {},
   "outputs": [
    {
     "data": {
      "text/html": [
       "<div>\n",
       "<style scoped>\n",
       "    .dataframe tbody tr th:only-of-type {\n",
       "        vertical-align: middle;\n",
       "    }\n",
       "\n",
       "    .dataframe tbody tr th {\n",
       "        vertical-align: top;\n",
       "    }\n",
       "\n",
       "    .dataframe thead th {\n",
       "        text-align: right;\n",
       "    }\n",
       "</style>\n",
       "<table border=\"1\" class=\"dataframe\">\n",
       "  <thead>\n",
       "    <tr style=\"text-align: right;\">\n",
       "      <th></th>\n",
       "      <th>ID</th>\n",
       "      <th>Name</th>\n",
       "      <th>Sex</th>\n",
       "      <th>Age</th>\n",
       "      <th>Team</th>\n",
       "      <th>NOC</th>\n",
       "      <th>Games</th>\n",
       "      <th>Year</th>\n",
       "      <th>Season</th>\n",
       "      <th>City</th>\n",
       "      <th>Sport</th>\n",
       "      <th>Event</th>\n",
       "      <th>Medal</th>\n",
       "      <th>region</th>\n",
       "      <th>Medal_labels</th>\n",
       "      <th>sex_labels</th>\n",
       "    </tr>\n",
       "  </thead>\n",
       "  <tbody>\n",
       "    <tr>\n",
       "      <th>0</th>\n",
       "      <td>1</td>\n",
       "      <td>A Dijiang</td>\n",
       "      <td>M</td>\n",
       "      <td>24.0</td>\n",
       "      <td>China</td>\n",
       "      <td>CHN</td>\n",
       "      <td>1992 Summer</td>\n",
       "      <td>1992</td>\n",
       "      <td>Summer</td>\n",
       "      <td>Barcelona</td>\n",
       "      <td>Basketball</td>\n",
       "      <td>Basketball Men's Basketball</td>\n",
       "      <td>DNW</td>\n",
       "      <td>China</td>\n",
       "      <td>0</td>\n",
       "      <td>0</td>\n",
       "    </tr>\n",
       "    <tr>\n",
       "      <th>1</th>\n",
       "      <td>2</td>\n",
       "      <td>A Lamusi</td>\n",
       "      <td>M</td>\n",
       "      <td>23.0</td>\n",
       "      <td>China</td>\n",
       "      <td>CHN</td>\n",
       "      <td>2012 Summer</td>\n",
       "      <td>2012</td>\n",
       "      <td>Summer</td>\n",
       "      <td>London</td>\n",
       "      <td>Judo</td>\n",
       "      <td>Judo Men's Extra-Lightweight</td>\n",
       "      <td>DNW</td>\n",
       "      <td>China</td>\n",
       "      <td>0</td>\n",
       "      <td>0</td>\n",
       "    </tr>\n",
       "    <tr>\n",
       "      <th>2</th>\n",
       "      <td>3</td>\n",
       "      <td>Gunnar Nielsen Aaby</td>\n",
       "      <td>M</td>\n",
       "      <td>24.0</td>\n",
       "      <td>Denmark</td>\n",
       "      <td>DEN</td>\n",
       "      <td>1920 Summer</td>\n",
       "      <td>1920</td>\n",
       "      <td>Summer</td>\n",
       "      <td>Antwerpen</td>\n",
       "      <td>Football</td>\n",
       "      <td>Football Men's Football</td>\n",
       "      <td>DNW</td>\n",
       "      <td>Denmark</td>\n",
       "      <td>0</td>\n",
       "      <td>0</td>\n",
       "    </tr>\n",
       "    <tr>\n",
       "      <th>3</th>\n",
       "      <td>4</td>\n",
       "      <td>Edgar Lindenau Aabye</td>\n",
       "      <td>M</td>\n",
       "      <td>34.0</td>\n",
       "      <td>Denmark/Sweden</td>\n",
       "      <td>DEN</td>\n",
       "      <td>1900 Summer</td>\n",
       "      <td>1900</td>\n",
       "      <td>Summer</td>\n",
       "      <td>Paris</td>\n",
       "      <td>Tug-Of-War</td>\n",
       "      <td>Tug-Of-War Men's Tug-Of-War</td>\n",
       "      <td>Gold</td>\n",
       "      <td>Denmark</td>\n",
       "      <td>1</td>\n",
       "      <td>0</td>\n",
       "    </tr>\n",
       "    <tr>\n",
       "      <th>4</th>\n",
       "      <td>5</td>\n",
       "      <td>Christine Jacoba Aaftink</td>\n",
       "      <td>F</td>\n",
       "      <td>21.0</td>\n",
       "      <td>Netherlands</td>\n",
       "      <td>NED</td>\n",
       "      <td>1988 Winter</td>\n",
       "      <td>1988</td>\n",
       "      <td>Winter</td>\n",
       "      <td>Calgary</td>\n",
       "      <td>Speed Skating</td>\n",
       "      <td>Speed Skating Women's 500 metres</td>\n",
       "      <td>DNW</td>\n",
       "      <td>Netherlands</td>\n",
       "      <td>0</td>\n",
       "      <td>1</td>\n",
       "    </tr>\n",
       "    <tr>\n",
       "      <th>...</th>\n",
       "      <td>...</td>\n",
       "      <td>...</td>\n",
       "      <td>...</td>\n",
       "      <td>...</td>\n",
       "      <td>...</td>\n",
       "      <td>...</td>\n",
       "      <td>...</td>\n",
       "      <td>...</td>\n",
       "      <td>...</td>\n",
       "      <td>...</td>\n",
       "      <td>...</td>\n",
       "      <td>...</td>\n",
       "      <td>...</td>\n",
       "      <td>...</td>\n",
       "      <td>...</td>\n",
       "      <td>...</td>\n",
       "    </tr>\n",
       "    <tr>\n",
       "      <th>270741</th>\n",
       "      <td>135569</td>\n",
       "      <td>Andrzej ya</td>\n",
       "      <td>M</td>\n",
       "      <td>29.0</td>\n",
       "      <td>Poland-1</td>\n",
       "      <td>POL</td>\n",
       "      <td>1976 Winter</td>\n",
       "      <td>1976</td>\n",
       "      <td>Winter</td>\n",
       "      <td>Innsbruck</td>\n",
       "      <td>Luge</td>\n",
       "      <td>Luge Mixed (Men)'s Doubles</td>\n",
       "      <td>DNW</td>\n",
       "      <td>Poland</td>\n",
       "      <td>0</td>\n",
       "      <td>0</td>\n",
       "    </tr>\n",
       "    <tr>\n",
       "      <th>270742</th>\n",
       "      <td>135570</td>\n",
       "      <td>Piotr ya</td>\n",
       "      <td>M</td>\n",
       "      <td>27.0</td>\n",
       "      <td>Poland</td>\n",
       "      <td>POL</td>\n",
       "      <td>2014 Winter</td>\n",
       "      <td>2014</td>\n",
       "      <td>Winter</td>\n",
       "      <td>Sochi</td>\n",
       "      <td>Ski Jumping</td>\n",
       "      <td>Ski Jumping Men's Large Hill, Individual</td>\n",
       "      <td>DNW</td>\n",
       "      <td>Poland</td>\n",
       "      <td>0</td>\n",
       "      <td>0</td>\n",
       "    </tr>\n",
       "    <tr>\n",
       "      <th>270743</th>\n",
       "      <td>135570</td>\n",
       "      <td>Piotr ya</td>\n",
       "      <td>M</td>\n",
       "      <td>27.0</td>\n",
       "      <td>Poland</td>\n",
       "      <td>POL</td>\n",
       "      <td>2014 Winter</td>\n",
       "      <td>2014</td>\n",
       "      <td>Winter</td>\n",
       "      <td>Sochi</td>\n",
       "      <td>Ski Jumping</td>\n",
       "      <td>Ski Jumping Men's Large Hill, Team</td>\n",
       "      <td>DNW</td>\n",
       "      <td>Poland</td>\n",
       "      <td>0</td>\n",
       "      <td>0</td>\n",
       "    </tr>\n",
       "    <tr>\n",
       "      <th>270744</th>\n",
       "      <td>135571</td>\n",
       "      <td>Tomasz Ireneusz ya</td>\n",
       "      <td>M</td>\n",
       "      <td>30.0</td>\n",
       "      <td>Poland</td>\n",
       "      <td>POL</td>\n",
       "      <td>1998 Winter</td>\n",
       "      <td>1998</td>\n",
       "      <td>Winter</td>\n",
       "      <td>Nagano</td>\n",
       "      <td>Bobsleigh</td>\n",
       "      <td>Bobsleigh Men's Four</td>\n",
       "      <td>DNW</td>\n",
       "      <td>Poland</td>\n",
       "      <td>0</td>\n",
       "      <td>0</td>\n",
       "    </tr>\n",
       "    <tr>\n",
       "      <th>270745</th>\n",
       "      <td>135571</td>\n",
       "      <td>Tomasz Ireneusz ya</td>\n",
       "      <td>M</td>\n",
       "      <td>34.0</td>\n",
       "      <td>Poland</td>\n",
       "      <td>POL</td>\n",
       "      <td>2002 Winter</td>\n",
       "      <td>2002</td>\n",
       "      <td>Winter</td>\n",
       "      <td>Salt Lake City</td>\n",
       "      <td>Bobsleigh</td>\n",
       "      <td>Bobsleigh Men's Four</td>\n",
       "      <td>DNW</td>\n",
       "      <td>Poland</td>\n",
       "      <td>0</td>\n",
       "      <td>0</td>\n",
       "    </tr>\n",
       "  </tbody>\n",
       "</table>\n",
       "<p>270746 rows × 16 columns</p>\n",
       "</div>"
      ],
      "text/plain": [
       "            ID                      Name Sex   Age            Team  NOC  \\\n",
       "0            1                 A Dijiang   M  24.0           China  CHN   \n",
       "1            2                  A Lamusi   M  23.0           China  CHN   \n",
       "2            3       Gunnar Nielsen Aaby   M  24.0         Denmark  DEN   \n",
       "3            4      Edgar Lindenau Aabye   M  34.0  Denmark/Sweden  DEN   \n",
       "4            5  Christine Jacoba Aaftink   F  21.0     Netherlands  NED   \n",
       "...        ...                       ...  ..   ...             ...  ...   \n",
       "270741  135569                Andrzej ya   M  29.0        Poland-1  POL   \n",
       "270742  135570                  Piotr ya   M  27.0          Poland  POL   \n",
       "270743  135570                  Piotr ya   M  27.0          Poland  POL   \n",
       "270744  135571        Tomasz Ireneusz ya   M  30.0          Poland  POL   \n",
       "270745  135571        Tomasz Ireneusz ya   M  34.0          Poland  POL   \n",
       "\n",
       "              Games  Year  Season            City          Sport  \\\n",
       "0       1992 Summer  1992  Summer       Barcelona     Basketball   \n",
       "1       2012 Summer  2012  Summer          London           Judo   \n",
       "2       1920 Summer  1920  Summer       Antwerpen       Football   \n",
       "3       1900 Summer  1900  Summer           Paris     Tug-Of-War   \n",
       "4       1988 Winter  1988  Winter         Calgary  Speed Skating   \n",
       "...             ...   ...     ...             ...            ...   \n",
       "270741  1976 Winter  1976  Winter       Innsbruck           Luge   \n",
       "270742  2014 Winter  2014  Winter           Sochi    Ski Jumping   \n",
       "270743  2014 Winter  2014  Winter           Sochi    Ski Jumping   \n",
       "270744  1998 Winter  1998  Winter          Nagano      Bobsleigh   \n",
       "270745  2002 Winter  2002  Winter  Salt Lake City      Bobsleigh   \n",
       "\n",
       "                                           Event Medal       region  \\\n",
       "0                    Basketball Men's Basketball   DNW        China   \n",
       "1                   Judo Men's Extra-Lightweight   DNW        China   \n",
       "2                        Football Men's Football   DNW      Denmark   \n",
       "3                    Tug-Of-War Men's Tug-Of-War  Gold      Denmark   \n",
       "4               Speed Skating Women's 500 metres   DNW  Netherlands   \n",
       "...                                          ...   ...          ...   \n",
       "270741                Luge Mixed (Men)'s Doubles   DNW       Poland   \n",
       "270742  Ski Jumping Men's Large Hill, Individual   DNW       Poland   \n",
       "270743        Ski Jumping Men's Large Hill, Team   DNW       Poland   \n",
       "270744                      Bobsleigh Men's Four   DNW       Poland   \n",
       "270745                      Bobsleigh Men's Four   DNW       Poland   \n",
       "\n",
       "        Medal_labels  sex_labels  \n",
       "0                  0           0  \n",
       "1                  0           0  \n",
       "2                  0           0  \n",
       "3                  1           0  \n",
       "4                  0           1  \n",
       "...              ...         ...  \n",
       "270741             0           0  \n",
       "270742             0           0  \n",
       "270743             0           0  \n",
       "270744             0           0  \n",
       "270745             0           0  \n",
       "\n",
       "[270746 rows x 16 columns]"
      ]
     },
     "execution_count": 22,
     "metadata": {},
     "output_type": "execute_result"
    }
   ],
   "source": [
    "n_df"
   ]
  }
 ],
 "metadata": {
  "kernelspec": {
   "display_name": "Python 3 (ipykernel)",
   "language": "python",
   "name": "python3"
  },
  "language_info": {
   "codemirror_mode": {
    "name": "ipython",
    "version": 3
   },
   "file_extension": ".py",
   "mimetype": "text/x-python",
   "name": "python",
   "nbconvert_exporter": "python",
   "pygments_lexer": "ipython3",
   "version": "3.10.2"
  }
 },
 "nbformat": 4,
 "nbformat_minor": 5
}
